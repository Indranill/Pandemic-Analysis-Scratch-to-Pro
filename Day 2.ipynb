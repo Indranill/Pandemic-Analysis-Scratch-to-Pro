{
 "cells": [
  {
   "cell_type": "markdown",
   "metadata": {},
   "source": [
    "## Day 2"
   ]
  },
  {
   "cell_type": "markdown",
   "metadata": {},
   "source": [
    "### Making Dictionary using two list"
   ]
  },
  {
   "cell_type": "code",
   "execution_count": 9,
   "metadata": {},
   "outputs": [],
   "source": [
    "list1=[\"Andaman and Nicobar\",\"Andhra Pradesh\",\"Arunachal Pradesh\",\"West Bengal\",\"Delhi\"]\n",
    "list2=[97,14595,191,19170,87360]"
   ]
  },
  {
   "cell_type": "code",
   "execution_count": 10,
   "metadata": {},
   "outputs": [
    {
     "data": {
      "text/plain": [
       "{'Andaman and Nicobar': 97,\n",
       " 'Andhra Pradesh': 14595,\n",
       " 'Arunachal Pradesh': 191,\n",
       " 'West Bengal': 19170,\n",
       " 'Delhi': 87360}"
      ]
     },
     "execution_count": 10,
     "metadata": {},
     "output_type": "execute_result"
    }
   ],
   "source": [
    "confirm=dict(zip(list1,list2))\n",
    "confirm"
   ]
  },
  {
   "cell_type": "markdown",
   "metadata": {},
   "source": [
    "### IFR and CMR functions"
   ]
  },
  {
   "cell_type": "code",
   "execution_count": 18,
   "metadata": {},
   "outputs": [],
   "source": [
    "def ifr(infected,deaths):\n",
    "    fr=(deaths/infected)*100\n",
    "    return fr\n",
    "def cmr(dist_total,deaths):\n",
    "    cr=(deaths/dist_total)*100\n",
    "    return cr"
   ]
  },
  {
   "cell_type": "code",
   "execution_count": 17,
   "metadata": {},
   "outputs": [
    {
     "data": {
      "text/plain": [
       "1.0"
      ]
     },
     "execution_count": 17,
     "metadata": {},
     "output_type": "execute_result"
    }
   ],
   "source": [
    "ifr(1000,10)"
   ]
  },
  {
   "cell_type": "code",
   "execution_count": 19,
   "metadata": {},
   "outputs": [
    {
     "data": {
      "text/plain": [
       "4.953888888888889"
      ]
     },
     "execution_count": 19,
     "metadata": {},
     "output_type": "execute_result"
    }
   ],
   "source": [
    "cmr(360000,17834)"
   ]
  },
  {
   "cell_type": "markdown",
   "metadata": {},
   "source": [
    "## Python GUI using Tkinter"
   ]
  },
  {
   "cell_type": "code",
   "execution_count": 73,
   "metadata": {},
   "outputs": [],
   "source": [
    "import tkinter as tk\n",
    "window=tk.Tk()\n",
    "window.title(\"Pandemic Analysis using Python\")\n",
    "label=tk.Label(window,text=\"Welcome to Pandemic Analysis\",pady=20).pack()\n",
    "infected=tk.Entry(window,width=30).pack()\n",
    "recovered=tk.Entry(window,width=30).pack()\n",
    "deceased=tk.Entry(window,width=30).pack()"
   ]
  },
  {
   "cell_type": "markdown",
   "metadata": {},
   "source": [
    "### Creating a button using tkinter"
   ]
  },
  {
   "cell_type": "code",
   "execution_count": 83,
   "metadata": {},
   "outputs": [],
   "source": [
    "import tkinter as tk\n",
    "window=tk.Tk()\n",
    "window.title(\"Pandemic Analysis using Python\")\n",
    "label=tk.Label(window,text=\"Welcome to Pandemic Analysis\",pady=20).grid(row=1)\n",
    "button=tk.Button(window,text=\"CMR\").grid(row=7,column=1)\n",
    "button2=tk.Button(window,text=\"IMR\").grid(row=7,column=2)\n",
    "window.mainloop()"
   ]
  },
  {
   "cell_type": "code",
   "execution_count": 51,
   "metadata": {},
   "outputs": [],
   "source": [
    "import tkinter as tk\n",
    "window=tk.Tk()\n",
    "window.title(\"Pandemic Analysis using Python\")\n",
    "label=tk.Label(window,text=\"Welcome to Pandemic Analysis\",pady=20).grid(row=1)\n",
    "window.mainloop()"
   ]
  },
  {
   "cell_type": "markdown",
   "metadata": {},
   "source": [
    "### Home Work"
   ]
  },
  {
   "cell_type": "markdown",
   "metadata": {},
   "source": [
    "Dictionary on total population"
   ]
  },
  {
   "cell_type": "code",
   "execution_count": 41,
   "metadata": {},
   "outputs": [],
   "source": [
    "list1=[\"Andaman and Nicobar\",\"Andhra Pradesh\",\"Arunachal Pradesh\",\"West Bengal\",\"Delhi\"]\n",
    "list2=[380581,49577103,1383727,91276115,16787941]\n",
    "tot_population=dict(zip(list1,list2))"
   ]
  },
  {
   "cell_type": "code",
   "execution_count": 43,
   "metadata": {},
   "outputs": [
    {
     "data": {
      "text/plain": [
       "380581"
      ]
     },
     "execution_count": 43,
     "metadata": {},
     "output_type": "execute_result"
    }
   ],
   "source": [
    "tot_population[\"Andaman and Nicobar\"]"
   ]
  },
  {
   "cell_type": "code",
   "execution_count": 64,
   "metadata": {},
   "outputs": [
    {
     "name": "stderr",
     "output_type": "stream",
     "text": [
      "Exception in Tkinter callback\n",
      "Traceback (most recent call last):\n",
      "  File \"c:\\users\\indranil maji\\appdata\\local\\programs\\python\\python38\\lib\\tkinter\\__init__.py\", line 1883, in __call__\n",
      "    return self.func(*args)\n",
      "  File \"<ipython-input-64-43a941487cd2>\", line 39, in <lambda>\n",
      "    button=tk.Button(window,text=\"CMR\",command=lambda: cmre(),bg=\"orange\",fg=\"white\",width=10).grid(row=7,column=1,pady=10)\n",
      "  File \"<ipython-input-64-43a941487cd2>\", line 35, in cmre\n",
      "    d=cmr(int(tot_population[str(clicked.get())]),int(deaths.get()))\n",
      "ValueError: invalid literal for int() with base 10: ''\n"
     ]
    }
   ],
   "source": [
    "import tkinter as tk\n",
    "\n",
    "window=tk.Tk()\n",
    "window.title(\"Pandemic Analysis using Python\")\n",
    "\n",
    "clicked=tk.StringVar()\n",
    "tk.OptionMenu(window,clicked,\"Andaman and Nicobar\",\"Andhra Pradesh\",\"Arunachal Pradesh\",\"West Bengal\",\"Delhi\").grid(row=1,column=2,padx=5,pady=5)\n",
    "\n",
    "\n",
    "label=tk.Label(window,text=\"Welcome to Pandemic Analysis\",pady=20).grid(row=1)\n",
    "label1=tk.Label(window,text=\"Infected\",pady=10).grid(row=3)\n",
    "label2=tk.Label(window,text=\"Recovered\",pady=10).grid(row=2)\n",
    "label3=tk.Label(window,text=\"Deaths\",pady=10).grid(row=4)\n",
    "\n",
    "\n",
    "recovered=tk.StringVar()\n",
    "tk.Entry(window,width=30,textvariable=recovered,bg=\"white\",fg=\"green\").grid(row=2,column=2,padx=10)\n",
    "infected=tk.StringVar()\n",
    "tk.Entry(window,width=30,textvariable=infected,bg=\"white\",fg=\"orange\").grid(row=3,column=2,padx=10)\n",
    "deaths=tk.StringVar()\n",
    "tk.Entry(window,width=30,textvariable=deaths,bg=\"white\",fg=\"red\").grid(row=4,column=2,padx=10)\n",
    "dl=tk.StringVar()\n",
    "dl.set(\"\")\n",
    "lb=tk.Label(window,textvariable=dl).grid(row=13,column=1)\n",
    "\n",
    "def infe():\n",
    "    tk.Label(window,text=\"The IFR is:\").grid(row=13,column=0)\n",
    "    dl.set(\"\")\n",
    "    d=ifr(int(infected.get()),int(deaths.get()))\n",
    "    dl.set(str(d))\n",
    "    \n",
    "def cmre():\n",
    "    tk.Label(window,text=\"The CMR is:\").grid(row=13,column=0)\n",
    "    dl.set(\"\")\n",
    "    d=cmr(int(tot_population[str(clicked.get())]),int(deaths.get()))\n",
    "    dl.set(str(d))\n",
    "\n",
    "\n",
    "button=tk.Button(window,text=\"CMR\",command=lambda: cmre(),bg=\"orange\",fg=\"white\",width=10).grid(row=7,column=1,pady=10)\n",
    "button2=tk.Button(window,text=\"IFR\",command=lambda: infe(),bg=\"orange\",fg=\"white\",width=10).grid(row=7,column=2,pady=10)\n",
    "\n",
    "\n",
    "\n",
    "window.mainloop()"
   ]
  },
  {
   "cell_type": "markdown",
   "metadata": {},
   "source": [
    "#### Data Input mistake rectifying sample"
   ]
  },
  {
   "cell_type": "code",
   "execution_count": 31,
   "metadata": {},
   "outputs": [],
   "source": [
    "import tkinter as tk\n",
    "window=tk.Tk()\n",
    "infected=tk.StringVar()\n",
    "tk.Entry(window,width=30,textvariable=infected).grid(row=2,column=2,padx=10)\n",
    "def root():\n",
    "    tk.Label(window,text=infected.get()).grid(row=10)\n",
    "tk.Button(window,text=\"Print\",command=lambda: root()).grid(row=7,column=1,pady=10)\n",
    "window.mainloop()"
   ]
  },
  {
   "cell_type": "markdown",
   "metadata": {},
   "source": [
    "## Doing File operations in Python"
   ]
  },
  {
   "cell_type": "code",
   "execution_count": 34,
   "metadata": {},
   "outputs": [],
   "source": [
    "file1=open(\"Day1.ipynb\",\"r\",encoding='utf-8')\n",
    "file1.close()"
   ]
  },
  {
   "cell_type": "markdown",
   "metadata": {},
   "source": [
    "#### Writing in a file"
   ]
  },
  {
   "cell_type": "code",
   "execution_count": 58,
   "metadata": {},
   "outputs": [
    {
     "data": {
      "text/plain": [
       "'We are Indian'"
      ]
     },
     "execution_count": 58,
     "metadata": {},
     "output_type": "execute_result"
    }
   ],
   "source": [
    "file1=open(\"fileText.txt\",\"r\")\n",
    "file1.readline()\n",
    "file1=open(\"fileText.txt\",\"w\")\n",
    "file1.write(\"We are Indian\")\n",
    "file1=open(\"fileText.txt\",\"r\")\n",
    "file1.read()"
   ]
  },
  {
   "cell_type": "code",
   "execution_count": null,
   "metadata": {},
   "outputs": [],
   "source": []
  }
 ],
 "metadata": {
  "kernelspec": {
   "display_name": "Python 3",
   "language": "python",
   "name": "python3"
  },
  "language_info": {
   "codemirror_mode": {
    "name": "ipython",
    "version": 3
   },
   "file_extension": ".py",
   "mimetype": "text/x-python",
   "name": "python",
   "nbconvert_exporter": "python",
   "pygments_lexer": "ipython3",
   "version": "3.8.0"
  }
 },
 "nbformat": 4,
 "nbformat_minor": 4
}
