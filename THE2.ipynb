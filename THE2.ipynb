{
 "cells": [
  {
   "cell_type": "markdown",
   "metadata": {},
   "source": [
    "### Downloaded a csv file of all indian cities with their population\n",
    "imported the csv<br>\n",
    "selected two columns state and population form data <br>\n"
   ]
  },
  {
   "cell_type": "code",
   "execution_count": 12,
   "metadata": {},
   "outputs": [],
   "source": [
    "import pandas as pd\n",
    "total_pop=pd.read_csv(\"population_india_census2011.csv\")[['State / Union Territory','Population']]"
   ]
  },
  {
   "cell_type": "markdown",
   "metadata": {},
   "source": [
    "##### Checking for null value and data types"
   ]
  },
  {
   "cell_type": "code",
   "execution_count": 13,
   "metadata": {},
   "outputs": [
    {
     "name": "stdout",
     "output_type": "stream",
     "text": [
      "<class 'pandas.core.frame.DataFrame'>\n",
      "RangeIndex: 36 entries, 0 to 35\n",
      "Data columns (total 2 columns):\n",
      " #   Column                   Non-Null Count  Dtype \n",
      "---  ------                   --------------  ----- \n",
      " 0   State / Union Territory  36 non-null     object\n",
      " 1   Population               36 non-null     int64 \n",
      "dtypes: int64(1), object(1)\n",
      "memory usage: 704.0+ bytes\n"
     ]
    },
    {
     "data": {
      "text/plain": [
       "pandas.core.frame.DataFrame"
      ]
     },
     "execution_count": 13,
     "metadata": {},
     "output_type": "execute_result"
    }
   ],
   "source": [
    "total_pop.info()\n",
    "type(total_pop)"
   ]
  },
  {
   "cell_type": "markdown",
   "metadata": {},
   "source": [
    "### IFR amd CMR function\n",
    "Infection Fertality Rate \n",
    "Crude mortality rate"
   ]
  },
  {
   "cell_type": "code",
   "execution_count": 5,
   "metadata": {},
   "outputs": [],
   "source": [
    "def ifr(infected,deaths):\n",
    "    fr=(deaths/infected)*100\n",
    "    return fr\n",
    "def cmr(dist_total,deaths):\n",
    "    cr=(deaths/dist_total)*100\n",
    "    return cr"
   ]
  },
  {
   "cell_type": "markdown",
   "metadata": {},
   "source": [
    "### Converting the dataframe to list and then dictionary"
   ]
  },
  {
   "cell_type": "code",
   "execution_count": 6,
   "metadata": {},
   "outputs": [],
   "source": [
    "city=list(total_pop['State / Union Territory'])\n",
    "population=list(total_pop['Population'])\n",
    "tot_population=dict(zip(city,population))"
   ]
  },
  {
   "cell_type": "markdown",
   "metadata": {},
   "source": [
    "## Using tkinter to form a GUI"
   ]
  },
  {
   "cell_type": "code",
   "execution_count": 26,
   "metadata": {},
   "outputs": [],
   "source": [
    "import tkinter as tk\n",
    "import tkinter.font as tkFont\n",
    "\n",
    "window=tk.Tk()\n",
    "window.title(\"Pandemic Analysis IFR and CMR\")\n",
    "\n",
    "clicked=tk.StringVar()\n",
    "tk.OptionMenu(window,clicked,*city).grid(row=1,column=2,padx=5,pady=5)\n",
    "clicked.set(city[0])\n",
    "\n",
    "fontStyle = tkFont.Font(family=\"Lucida Grande\", size=20)\n",
    "\n",
    "label=tk.Label(window,text=\"Welcome to Pandemic Analyzer\",fg=\"yellow\",font=fontStyle,pady=20).grid(row=1)\n",
    "label1=tk.Label(window,text=\"Infected\",fg=\"orange\",pady=10).grid(row=3)\n",
    "label2=tk.Label(window,text=\"Recovered\",fg=\"green\",pady=10).grid(row=2)\n",
    "label3=tk.Label(window,text=\"Deaths\",fg=\"red\",pady=10).grid(row=4)\n",
    "\n",
    "\n",
    "recovered=tk.StringVar()\n",
    "tk.Entry(window,width=30,textvariable=recovered,bg=\"white\",fg=\"green\").grid(row=2,column=2,padx=10)\n",
    "infected=tk.StringVar()\n",
    "tk.Entry(window,width=30,textvariable=infected,bg=\"white\",fg=\"orange\").grid(row=3,column=2,padx=10)\n",
    "deaths=tk.StringVar()\n",
    "tk.Entry(window,width=30,textvariable=deaths,bg=\"white\",fg=\"red\").grid(row=4,column=2,padx=10)\n",
    "dl=tk.StringVar()\n",
    "dl.set(\"\")\n",
    "lb=tk.Label(window,textvariable=dl).grid(row=13,column=1)\n",
    "\n",
    "def infc():\n",
    "    tk.Label(window,text=\"The IFR is:\").grid(row=13,column=0)\n",
    "    dl.set(\"\")\n",
    "    d=ifr(int(infected.get()),int(deaths.get()))\n",
    "    dl.set(str(d))\n",
    "    \n",
    "def cmrc():\n",
    "    tk.Label(window,text=\"The CMR is:\").grid(row=13,column=0)\n",
    "    dl.set(\"\")\n",
    "    d=cmr(int(tot_population[str(clicked.get())]),int(deaths.get())) #passing the key in the dictionary and getting the respective value then passing the value as argument to cmr function\n",
    "    dl.set(str(d))\n",
    "\n",
    "\n",
    "button=tk.Button(window,text=\"CMR\",command=lambda: cmrc(),bg=\"orange\",fg=\"white\",width=10).grid(row=7,column=1,pady=10)\n",
    "button2=tk.Button(window,text=\"IFR\",command=lambda: infc(),bg=\"orange\",fg=\"white\",width=10).grid(row=7,column=2,pady=10)\n",
    "\n",
    "\n",
    "\n",
    "window.mainloop()"
   ]
  },
  {
   "cell_type": "code",
   "execution_count": null,
   "metadata": {},
   "outputs": [],
   "source": []
  }
 ],
 "metadata": {
  "kernelspec": {
   "display_name": "Python 3",
   "language": "python",
   "name": "python3"
  },
  "language_info": {
   "codemirror_mode": {
    "name": "ipython",
    "version": 3
   },
   "file_extension": ".py",
   "mimetype": "text/x-python",
   "name": "python",
   "nbconvert_exporter": "python",
   "pygments_lexer": "ipython3",
   "version": "3.8.0"
  }
 },
 "nbformat": 4,
 "nbformat_minor": 4
}
