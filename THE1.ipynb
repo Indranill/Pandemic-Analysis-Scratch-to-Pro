{
 "cells": [
  {
   "cell_type": "markdown",
   "metadata": {},
   "source": [
    "<b>During the session, sample datastructures were created with 5\n",
    "elements.<br></b>\n",
    "  • Populate these lists, tuple and the dictionary with all state data to be\n",
    "    discovered, tomorrow!!!"
   ]
  },
  {
   "cell_type": "markdown",
   "metadata": {},
   "source": [
    "To collect the datat and populating the list I used pandas library to import the data\n",
    "<br>and populated with all state and union territories data"
   ]
  },
  {
   "cell_type": "code",
   "execution_count": null,
   "metadata": {},
   "outputs": [],
   "source": [
    "import pandas as pd\n",
    "covid_19=pd.read_csv(\"C:/Users/Indranil Maji/Pandemic Analysis/DataSets/covid_19_india.csv\").groupby(\"State/UnionTerritory\").sum()\n",
    "covid_19=covid_19.drop(['Unassigned','Cases being reassigned to states'],axis=0)\n",
    "covid_19['active']=covid_19['Confirmed']-covid_19[\"Deaths\"]-covid_19['Cured']\n",
    "covid_19_c=covid_19[\"Confirmed\"]\n",
    "covid_19_d=covid_19[\"Deaths\"]\n",
    "covid_19_r=covid_19[\"Cured\"]\n",
    "covid_19_a=covid_19[\"active\"]\n",
    "print(covid_19.count())\n",
    "list_state=['Andhra Pradesh', 'Arunachal Pradesh', 'Assam', 'Bihar','Chhattisgarh','Delhi', 'Goa', 'Gujarat', 'Haryana', 'Himachal Pradesh','Jharkhand', 'Karnataka', 'Kerala','Madhya Pradesh', 'Maharashtra', 'Manipur', 'Meghalaya', 'Mizoram', 'Nagaland', 'Odisha','Punjab', 'Rajasthan', 'Sikkim', 'Tamil Nadu', 'Telangana','Tripura', 'Uttar Pradesh', 'Uttarakhand', 'West Bengal']\n",
    "list_union_teritories=['Andaman and Nicobar Islands','Dadar Nagar Haveli', 'Dadra and Nagar Haveli and Daman and Diu', 'Daman & Diu','Jammu and Kashmir', 'Ladakh', 'Punjab', 'Rajasthan','Telengana']\n",
    "covid_19[\"Confirmed\"][list_state].count()\n",
    "covid_19[\"Confirmed\"][list_union_teritories].count()"
   ]
  },
  {
   "cell_type": "markdown",
   "metadata": {},
   "source": [
    "<b> From dataset converting to list</b>"
   ]
  },
  {
   "cell_type": "code",
   "execution_count": 109,
   "metadata": {},
   "outputs": [],
   "source": [
    "list1=list(covid_19_a.index)\n",
    "list2=list(covid_19_a.values)"
   ]
  },
  {
   "cell_type": "markdown",
   "metadata": {},
   "source": [
    "<b>From list converting to dictionary</b>"
   ]
  },
  {
   "cell_type": "code",
   "execution_count": null,
   "metadata": {},
   "outputs": [],
   "source": [
    "covid_19_dict1=dict(zip(list1,list2))\n",
    "covid_19_dict1"
   ]
  },
  {
   "cell_type": "markdown",
   "metadata": {},
   "source": [
    "<b>From dictionary converting to sets</b>"
   ]
  },
  {
   "cell_type": "code",
   "execution_count": 103,
   "metadata": {},
   "outputs": [],
   "source": [
    "set1=set(covid_19_dict1.keys())\n",
    "set2=set(covid_19_dict1.values())"
   ]
  },
  {
   "cell_type": "markdown",
   "metadata": {},
   "source": [
    "<b>From list converting to tuples</b>"
   ]
  },
  {
   "cell_type": "code",
   "execution_count": 108,
   "metadata": {},
   "outputs": [],
   "source": [
    "tup1=tuple(list1)\n",
    "tup2=tuple(list2)"
   ]
  },
  {
   "cell_type": "code",
   "execution_count": null,
   "metadata": {},
   "outputs": [],
   "source": []
  }
 ],
 "metadata": {
  "kernelspec": {
   "display_name": "Python 3",
   "language": "python",
   "name": "python3"
  },
  "language_info": {
   "codemirror_mode": {
    "name": "ipython",
    "version": 3
   },
   "file_extension": ".py",
   "mimetype": "text/x-python",
   "name": "python",
   "nbconvert_exporter": "python",
   "pygments_lexer": "ipython3",
   "version": "3.8.0"
  }
 },
 "nbformat": 4,
 "nbformat_minor": 4
}
