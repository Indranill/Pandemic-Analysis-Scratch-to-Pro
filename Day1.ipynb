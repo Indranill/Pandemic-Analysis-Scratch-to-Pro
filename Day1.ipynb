{
 "cells": [
  {
   "cell_type": "markdown",
   "metadata": {},
   "source": [
    "## DAY 1 Ready to dive deep"
   ]
  },
  {
   "cell_type": "markdown",
   "metadata": {},
   "source": [
    "### Knowing about python"
   ]
  },
  {
   "cell_type": "code",
   "execution_count": 2,
   "metadata": {},
   "outputs": [],
   "source": [
    "a=4+5"
   ]
  },
  {
   "cell_type": "code",
   "execution_count": 3,
   "metadata": {},
   "outputs": [
    {
     "data": {
      "text/plain": [
       "'covid 19 workshop'"
      ]
     },
     "execution_count": 3,
     "metadata": {},
     "output_type": "execute_result"
    }
   ],
   "source": [
    "\"covid \"+\"19 workshop\""
   ]
  },
  {
   "cell_type": "code",
   "execution_count": 4,
   "metadata": {},
   "outputs": [
    {
     "data": {
      "text/plain": [
       "76"
      ]
     },
     "execution_count": 4,
     "metadata": {},
     "output_type": "execute_result"
    }
   ],
   "source": [
    "a+67"
   ]
  },
  {
   "cell_type": "markdown",
   "metadata": {},
   "source": [
    "#### Type Functions"
   ]
  },
  {
   "cell_type": "code",
   "execution_count": 19,
   "metadata": {},
   "outputs": [
    {
     "name": "stdout",
     "output_type": "stream",
     "text": [
      "<class 'complex'>\n",
      "<class 'float'>\n",
      "<class 'str'>\n",
      "<class 'bool'>\n",
      "<class 'complex'>\n",
      "<class 'set'>\n",
      "<class 'list'>\n",
      "<class 'dict'>\n"
     ]
    }
   ],
   "source": [
    "print(type(a))\n",
    "\n",
    "print(type(5.67))\n",
    "\n",
    "print(type(\"Routine\"))\n",
    "\n",
    "print(type(True))\n",
    "\n",
    "a=complex(4,9)\n",
    "print(type(a))\n",
    "\n",
    "print(type({\"1\"}))\n",
    "\n",
    "print(type([2]))\n",
    "\n",
    "print(type({1:23,3:44}))"
   ]
  },
  {
   "cell_type": "code",
   "execution_count": 24,
   "metadata": {},
   "outputs": [
    {
     "name": "stdout",
     "output_type": "stream",
     "text": [
      "<class 'int'>\n",
      "CORONA infected people in  Delhi  are 52340\n",
      "Among them Infected today are 570 \n",
      "corona infected yesterday is 456\n"
     ]
    }
   ],
   "source": [
    "corona_infected_today=570\n",
    "corona_infected_yesterday=456\n",
    "corona_infected_total=52340\n",
    "State=\"Delhi\"\n",
    "print(type(corona_infected_total))\n",
    "print('CORONA infected people in ',State,' are {}'.format(corona_infected_total))\n",
    "print(\"Among them Infected today are {}\".format(corona_infected_today),\"\\nCorona Infected yesterday is {}\".format(corona_infected_yesterday))"
   ]
  },
  {
   "cell_type": "markdown",
   "metadata": {},
   "source": [
    "### Expression and Combinations"
   ]
  },
  {
   "cell_type": "code",
   "execution_count": 41,
   "metadata": {},
   "outputs": [
    {
     "name": "stdout",
     "output_type": "stream",
     "text": [
      "The Increment Percentage of prerson Infected today than yesterday:  25.0\n"
     ]
    }
   ],
   "source": [
    "corona_increment_in_a_Day=corona_infected_today-corona_infected_yesterday\n",
    "percentage_of_increment=((corona_infected_today-corona_infected_yesterday)/corona_infected_yesterday)*100\n",
    "print(\"The Increment Percentage of prerson Infected today than yesterday: \",percentage_of_increment)"
   ]
  },
  {
   "cell_type": "markdown",
   "metadata": {},
   "source": [
    "### String split method used in a Name to split their Frist-name and surname "
   ]
  },
  {
   "cell_type": "code",
   "execution_count": 35,
   "metadata": {},
   "outputs": [
    {
     "name": "stdout",
     "output_type": "stream",
     "text": [
      "Indranil \n",
      "And the surname is: \n",
      "Maji\n",
      "Indranil\n",
      "Maji\n"
     ]
    }
   ],
   "source": [
    "a=\"Indranil Maji\"\n",
    "for i in a:\n",
    "    print(i,end=\"\")\n",
    "    if(i==\" \"):\n",
    "        print(\"\\nAnd the surname is: \")\n",
    "        \n",
    "\n",
    "#OR We can also use split function which is predefined\n",
    "\n",
    "print() \n",
    "for i in a.split():\n",
    "    print(i)"
   ]
  },
  {
   "cell_type": "code",
   "execution_count": 79,
   "metadata": {},
   "outputs": [
    {
     "name": "stdout",
     "output_type": "stream",
     "text": [
      "anil Maji\n",
      "ijaM linardnI\n",
      "linardnI\n",
      "ijaM\n"
     ]
    }
   ],
   "source": [
    "print(a[4:])\n",
    "print(a[::-1])\n",
    "print(a[7::-1])\n",
    "print(a[-1:8:-1])"
   ]
  },
  {
   "cell_type": "markdown",
   "metadata": {},
   "source": [
    "### Inclass Exercise"
   ]
  },
  {
   "cell_type": "code",
   "execution_count": 85,
   "metadata": {},
   "outputs": [
    {
     "name": "stdout",
     "output_type": "stream",
     "text": [
      "<class 'int'>\n",
      "CORONA infected people in  Gwalior  are 1234\n",
      "corona infected increment percentage in day 2 from day 1 16.666666666666664\n",
      "corona infected increment percentage in day 3 from day 2 108.33333333333333\n",
      "corona infected increment percentage in day average 62.5\n"
     ]
    }
   ],
   "source": [
    "District=\"Gwalior\"\n",
    "corona_infected_total=1234\n",
    "corona_infected_10June=12\n",
    "corona_infected_11June=2\n",
    "corona_infected_12June=13\n",
    "precent_increase_day=[0]*2\n",
    "\n",
    "precent_increase_day[0]=((corona_infected_11June)/corona_infected_10June)*100\n",
    "precent_increase_day[1]=((corona_infected_12June)/corona_infected_10June)*100\n",
    "\n",
    "print(type(corona_infected_total))\n",
    "print('CORONA infected people in ',District,' are {}'.format(corona_infected_total))\n",
    "print('corona infected increment percentage in day 2 from day 1',precent_increase_day[0])\n",
    "print('corona infected increment percentage in day 3 from day 2',precent_increase_day[1])\n",
    "print('corona infected increment percentage in day average',((precent_increase_day[0]+precent_increase_day[1])/2))\n"
   ]
  },
  {
   "cell_type": "code",
   "execution_count": null,
   "metadata": {},
   "outputs": [],
   "source": []
  }
 ],
 "metadata": {
  "kernelspec": {
   "display_name": "Python 3",
   "language": "python",
   "name": "python3"
  },
  "language_info": {
   "codemirror_mode": {
    "name": "ipython",
    "version": 3
   },
   "file_extension": ".py",
   "mimetype": "text/x-python",
   "name": "python",
   "nbconvert_exporter": "python",
   "pygments_lexer": "ipython3",
   "version": "3.8.0"
  }
 },
 "nbformat": 4,
 "nbformat_minor": 4
}
